{
 "cells": [
  {
   "cell_type": "markdown",
   "id": "dd7ec59b",
   "metadata": {},
   "source": [
    "# Data Programming\n",
    "\n",
    "Problem Set 1\n",
    "\n",
    "ID: 20050042"
   ]
  },
  {
   "cell_type": "markdown",
   "id": "5e82d024",
   "metadata": {},
   "source": [
    "# Question 1\n",
    "\n",
    "\n",
    "The data types are: "
   ]
  },
  {
   "cell_type": "markdown",
   "id": "42f6a55d",
   "metadata": {},
   "source": [
    "|Value        | Data Type                                                             |\n",
    "|:----        |:------------------------------                                        |\n",
    "| 5           | Number (integer)                                                      |\n",
    "| 5.0         | Number (Float)                                                        |\n",
    "| 5>1         | Boolean Expression (Comparison Operator)                              |\n",
    "| '5'         | String                                                                |\n",
    "| 5 * 2       | Arithmetic Expression (Multiplication)                                |\n",
    "| '5' * 2     | String Operator (Concatenation of 2 copies of '5'                     |\n",
    "| '5' + '2'   | String Operator (Concatenation of 2 Strings)                          |\n",
    "| 5 / 2       | Algebraic Expression (Division)                                       |\n",
    "| 5 % 2       | Algebraic Expression (Reminder)                                       |\n",
    "| {5, 2, 1}   | Sets                                                                  |\n",
    "| 5 == 3      | Boolean Expression (sure)                                             |\n",
    "| Math.pi     | math is a module for calculation                                      |"
   ]
  },
  {
   "cell_type": "markdown",
   "id": "6d18fbef",
   "metadata": {},
   "source": [
    "# Question 2\n",
    "\n",
    "Write (and evaluate) C# expressions that answer these questions:\n",
    "\n",
    "A. How many letters are there in 'Supercalifragilisticexpialidocious'?\n",
    "\n"
   ]
  },
  {
   "cell_type": "markdown",
   "id": "b1fb2530",
   "metadata": {},
   "source": [
    "b. Does 'Supercalifragilisticexpialidocious' contain 'ice' as a substring?"
   ]
  },
  {
   "cell_type": "markdown",
   "id": "12434b40",
   "metadata": {},
   "source": [
    "c. Which of the following words is the longest:\n",
    "Supercalifragilisticexpialidocious, Honorificabilitudinitatibus, or\n",
    "Bababadalgharaghtakamminarronnkonn?"
   ]
  },
  {
   "cell_type": "markdown",
   "id": "30713460",
   "metadata": {},
   "source": [
    "d. Which composer comes first in the dictionary: 'Berlioz', 'Borodin', 'Brian',\n",
    "'Bartok', 'Bellini', 'Buxtehude', 'Bernstein'. Which one comes last?"
   ]
  },
  {
   "cell_type": "code",
   "execution_count": null,
   "id": "7a49f337",
   "metadata": {},
   "outputs": [],
   "source": [
    "using System;\n",
    "\n",
    "namespace Abiola.Adeyemi.BDAT1004PS1ii\n",
    "{\n",
    "    class Program\n",
    "    {\n",
    "        static void Main(string[] args)\n",
    "        {\n",
    "            string myObj = \"Supercalifragilisticexpialidocious\";\n",
    "            Console.WriteLine(myObj.Length);\n",
    "\n",
    "            string yourObj = \"Supercalifragilisticexpialidocious\";\n",
    "            Console.WriteLine(yourObj.Contains(\"ice\"));\n",
    "\n",
    "            int maxLength = -100;\n",
    "            int index = 0;\n",
    "            string[] words = { \"Supercalifragilisticexpialidocious\", \"Honorificabilitudinitatibus\", \"Bababadalgharaghtakamminarronnkonn\" };\n",
    "            for (int i = 0; i < words.Length; i++)\n",
    "            {\n",
    "                if (words[i].Length > maxLength)\n",
    "                {\n",
    "                    maxLength = words[i].Length;\n",
    "                    index = i;\n",
    "                }\n",
    "            }\n",
    "            Console.WriteLine(\"The longest word is \" + words[index]);\n",
    "\n",
    "       \n",
    "                   }\n",
    "    }\n",
    "}"
   ]
  },
  {
   "cell_type": "markdown",
   "id": "88a2c9f0",
   "metadata": {},
   "source": [
    "I was not able to attach the screenshot of the output in jupyter so i have added in the github along with the file."
   ]
  },
  {
   "cell_type": "markdown",
   "id": "08f5b3c3",
   "metadata": {},
   "source": [
    "# Question 3\n",
    "\n",
    "Implement function triangleArea(a,b,c) that takes as input the lengths of the 3\n",
    "sides of a triangle and returns the area of the triangle. By Heron's formula, the area\n",
    "of a triangle with side lengths a, b, and c is\n",
    "s(s - a)(s -b)(s -c)\n",
    ", where\n",
    "s = (a+b+c)/2.\n",
    ">>> triangleArea(2,2,2)\n",
    "1.7320508075688772\n"
   ]
  },
  {
   "cell_type": "code",
   "execution_count": 30,
   "id": "fde664ce",
   "metadata": {},
   "outputs": [
    {
     "ename": "SyntaxError",
     "evalue": "invalid syntax (<ipython-input-30-a6ac1b1fe718>, line 1)",
     "output_type": "error",
     "traceback": [
      "\u001b[1;36m  File \u001b[1;32m\"<ipython-input-30-a6ac1b1fe718>\"\u001b[1;36m, line \u001b[1;32m1\u001b[0m\n\u001b[1;33m    public void triangleArea(double a, double b, double c){\u001b[0m\n\u001b[1;37m           ^\u001b[0m\n\u001b[1;31mSyntaxError\u001b[0m\u001b[1;31m:\u001b[0m invalid syntax\n"
     ]
    }
   ],
   "source": [
    "public void triangleArea(double a, double b, double c){\n",
    "    \n",
    "    double s= (a+b+c)/2;\n",
    "    double ar = Math.Sqrt(s*(s-a)*(s-b)*(s-c));\n",
    "    Console.WriteLine(\"Area of Triangle = {0}\",ar);\n",
    "    \n",
    "    }\n",
    "triangleArea(2,2,2);"
   ]
  },
  {
   "cell_type": "markdown",
   "id": "1cf6b182",
   "metadata": {},
   "source": [
    "# Question 4\n",
    "\n",
    "Write a program in C# Sharp to separate odd and even integers in separate arrays.\n",
    "Go to the editor\n",
    "Test Data :\n",
    "Input the number of elements to be stored in the array :5\n",
    "Input 5 elements in the array :\n",
    "element - 0 : 25\n",
    "element - 1 : 47\n",
    "element - 2 : 42\n",
    "element - 3 : 56\n",
    "element - 4 : 32\n",
    "Expected Output:\n",
    "The Even elements are:\n",
    "42 56 32\n",
    "The Odd elements are :\n",
    "25 47"
   ]
  },
  {
   "cell_type": "markdown",
   "id": "2f7cba31",
   "metadata": {},
   "source": [
    "![](output.png)"
   ]
  },
  {
   "cell_type": "code",
   "execution_count": null,
   "id": "5b07b512",
   "metadata": {},
   "outputs": [],
   "source": [
    "using System;\n",
    "\n",
    "namespace Quest4\n",
    "{\n",
    "    class Program\n",
    "    {\n",
    "        static void Main(string[] args)\n",
    "        {\n",
    "            int[] array1 = new int[] { 25, 47, 42, 56, 32 };\n",
    "            int[] array2 = new int[4];\n",
    "            int[] array3 = new int[4];\n",
    "            int i, b = 0, c = 0;\n",
    "            for ( i = 0; i < array1.Length; i++)\n",
    "            {\n",
    "                if (array1[i] % 2 == 0)    // for any number to be even, it has to leave a remainder of 0 when divided by 2\n",
    "                {\n",
    "                    array2[b] = array1[i];\n",
    "                    b++;\n",
    "                }\n",
    "                else\n",
    "                {\n",
    "                    array3[c] = array1[i];\n",
    "                    c++;\n",
    "                }\n",
    "            }\n",
    "            Console.WriteLine(\"The Even elements are: \");\n",
    "            for (i = 0; i < b; i++)\n",
    "            {\n",
    "                Console.WriteLine(array2[i]);\n",
    "            }\n",
    "            Console.WriteLine(\"The Odd elements are: \");\n",
    "            for (i = 0; i < c; i++)\n",
    "            {\n",
    "                Console.WriteLine(array3[i]);\n",
    "            }\n",
    "            Console.ReadLine();\n",
    "        }\n",
    "    }\n",
    "}"
   ]
  },
  {
   "cell_type": "markdown",
   "id": "fdec4535",
   "metadata": {},
   "source": [
    "I was not able to attach the screenshot of the output in jupyter so i have added in github along with the file. "
   ]
  },
  {
   "cell_type": "markdown",
   "id": "2853248f",
   "metadata": {},
   "source": [
    "# Question 5\n",
    "\n",
    "Write a function inside(x,y,x1,y1,x2,y2) that returns True or False\n",
    "depending on whether the point (x,y) lies in the rectangle with lower left\n",
    "corner (x1,y1) and upper right corner (x2,y2).\n",
    ">>> inside(1,1,0,0,2,3)\n",
    "True\n",
    ">>> inside(-1,-1,0,0,2,3)\n",
    "False\n",
    "b. Use function inside() from part a. to write an expression that tests whether\n",
    "the point (1,1) lies in both of the following rectangles: one with lower left\n",
    "corner (0.3, 0.5) and upper right corner (1.1, 0.7) and the other with lower\n",
    "left corner (0.5, 0.2) and upper right corner (1.1, 2). "
   ]
  },
  {
   "cell_type": "markdown",
   "id": "835e1eae",
   "metadata": {},
   "source": [
    "Didnt understand the question."
   ]
  },
  {
   "cell_type": "markdown",
   "id": "e4df4313",
   "metadata": {},
   "source": [
    "# Question 6\n",
    "\n",
    " You can turn a word into pig-Latin using the following two rules (simplified):\n",
    "• If the word starts with a consonant, move that letter to the end and append\n",
    "'ay'. For example, 'happy' becomes 'appyhay' and 'pencil' becomes 'encilpay'.\n",
    "• If the word starts with a vowel, simply append 'way' to the end of the word.\n",
    "For example, 'enter' becomes 'enterway' and 'other' becomes 'otherway' . For\n",
    "our purposes, there are 5 vowels: a, e, i, o, u (so we count y as a consonant).\n",
    "Write a function pig() that takes a word (i.e., a string) as input and returns its pigLatin form. Your function should still work if the input word contains upper case\n",
    "characters. Your output should always be lower case however."
   ]
  },
  {
   "cell_type": "code",
   "execution_count": 3,
   "id": "6285ba1a",
   "metadata": {},
   "outputs": [
    {
     "name": "stdout",
     "output_type": "stream",
     "text": [
      "pig('happy')\n",
      "appyhay\n",
      "\n",
      "pig('Enter')\n",
      "enterway\n"
     ]
    }
   ],
   "source": [
    "def pig(str):\n",
    "    str_lower = str.lower()\n",
    "    if str_lower[0] in ('a','e','i','o','u'):\n",
    "        pig_latin = str_lower + 'way'\n",
    "        return pig_latin\n",
    "    else:\n",
    "        pig_latin = str_lower[1:] + str_lower[0] + 'ay'\n",
    "        return pig_latin\n",
    "\n",
    "print(\"pig('happy')\")\n",
    "print(pig(\"happy\"))\n",
    "print()\n",
    "print(\"pig('Enter')\")\n",
    "print(pig(\"Enter\"))"
   ]
  },
  {
   "cell_type": "markdown",
   "id": "e277eabb",
   "metadata": {},
   "source": [
    "# Question 7\n",
    "\n",
    "File bloodtype1.txt records blood-types of patients (A, B, AB, O or OO) at a clinic.\n",
    "Write a function bldcount() that reads the file with name name and reports (i.e.,\n",
    "prints) how many patients there are in each bloodtype.\n",
    ">>> bldcount('bloodtype.txt')\n",
    "There are 10 patients of blood type A.\n",
    "There is one patient of blood type B.\n",
    "There are 10 patients of blood type AB.\n",
    "There are 12 patients of blood type O.\n",
    "There are no patients of blood type OO."
   ]
  },
  {
   "cell_type": "code",
   "execution_count": 7,
   "id": "f26beb59",
   "metadata": {},
   "outputs": [
    {
     "ename": "NameError",
     "evalue": "name 'bloodtype1' is not defined",
     "output_type": "error",
     "traceback": [
      "\u001b[1;31m---------------------------------------------------------------------------\u001b[0m",
      "\u001b[1;31mNameError\u001b[0m                                 Traceback (most recent call last)",
      "\u001b[1;32m<ipython-input-7-3fbfa8dc0fb6>\u001b[0m in \u001b[0;36m<module>\u001b[1;34m\u001b[0m\n\u001b[0;32m     28\u001b[0m \u001b[1;33m\u001b[0m\u001b[0m\n\u001b[0;32m     29\u001b[0m \u001b[1;33m\u001b[0m\u001b[0m\n\u001b[1;32m---> 30\u001b[1;33m \u001b[0mbldcount\u001b[0m\u001b[1;33m(\u001b[0m\u001b[1;34m'bloodtype1.txt'\u001b[0m\u001b[1;33m)\u001b[0m\u001b[1;33m\u001b[0m\u001b[1;33m\u001b[0m\u001b[0m\n\u001b[0m",
      "\u001b[1;32m<ipython-input-7-3fbfa8dc0fb6>\u001b[0m in \u001b[0;36mbldcount\u001b[1;34m(file_name)\u001b[0m\n\u001b[0;32m      7\u001b[0m     \u001b[0mOO\u001b[0m\u001b[1;33m=\u001b[0m\u001b[1;36m0\u001b[0m\u001b[1;33m\u001b[0m\u001b[1;33m\u001b[0m\u001b[0m\n\u001b[0;32m      8\u001b[0m \u001b[1;33m\u001b[0m\u001b[0m\n\u001b[1;32m----> 9\u001b[1;33m     \u001b[0mfile\u001b[0m\u001b[1;33m=\u001b[0m\u001b[0mopen\u001b[0m\u001b[1;33m(\u001b[0m\u001b[0mbloodtype1\u001b[0m\u001b[1;33m.\u001b[0m\u001b[0mtxt\u001b[0m\u001b[1;33m,\u001b[0m\u001b[1;34m'r'\u001b[0m\u001b[1;33m)\u001b[0m\u001b[1;33m\u001b[0m\u001b[1;33m\u001b[0m\u001b[0m\n\u001b[0m\u001b[0;32m     10\u001b[0m     \u001b[0mfile_content\u001b[0m \u001b[1;33m=\u001b[0m \u001b[0mfile\u001b[0m\u001b[1;33m.\u001b[0m\u001b[0mread\u001b[0m\u001b[1;33m(\u001b[0m\u001b[1;33m)\u001b[0m\u001b[1;33m\u001b[0m\u001b[1;33m\u001b[0m\u001b[0m\n\u001b[0;32m     11\u001b[0m     \u001b[0mbldtype\u001b[0m \u001b[1;33m=\u001b[0m \u001b[0mfile_content\u001b[0m\u001b[1;33m.\u001b[0m\u001b[0msplit\u001b[0m\u001b[1;33m(\u001b[0m\u001b[1;33m)\u001b[0m\u001b[1;33m\u001b[0m\u001b[1;33m\u001b[0m\u001b[0m\n",
      "\u001b[1;31mNameError\u001b[0m: name 'bloodtype1' is not defined"
     ]
    }
   ],
   "source": [
    "def bldcount(file_name):\n",
    "    \n",
    "    A=0\n",
    "    B=0\n",
    "    AB=0\n",
    "    O=0\n",
    "    OO=0\n",
    "    \n",
    "    file=open(bloodtype1.txt,'r')\n",
    "    file_content = file.read()\n",
    "    bldtype = file_content.split()\n",
    "    for i in bldtype:\n",
    "        if i=='A':\n",
    "            A+=1\n",
    "        elif i=='B':\n",
    "            B+=1\n",
    "        elif i=='AB':\n",
    "            AB+=1\n",
    "        elif i=='O':\n",
    "            O+=1\n",
    "        elif i=='OO':\n",
    "            OO+=1\n",
    "    print('There are {} patients of blood type A'.format(A))\n",
    "    print('There are {} patients of blood type B'.format(B))\n",
    "    print('There are {} patients of blood type AB'.format(AB))\n",
    "    print('There are {} patients of blood type O'.format(O))\n",
    "    print('There are {} patients of blood type OO'.format(OO))\n",
    "          \n",
    "          \n",
    "bldcount('bloodtype1.txt')"
   ]
  },
  {
   "cell_type": "markdown",
   "id": "ba1b4371",
   "metadata": {},
   "source": [
    "# Question 8\n",
    "\n",
    "Write a function curconv() that takes as input:\n",
    "1. a currency represented using a string (e.g., 'JPY' for the Japanese Yen or\n",
    "'EUR' for the Euro)\n",
    "2. an amount\n",
    "and then converts and returns the amount in US dollars."
   ]
  },
  {
   "cell_type": "code",
   "execution_count": 16,
   "id": "b67e3898",
   "metadata": {},
   "outputs": [
    {
     "ename": "FileNotFoundError",
     "evalue": "[Errno 2] No such file or directory: 'currencies.txt'",
     "output_type": "error",
     "traceback": [
      "\u001b[1;31m---------------------------------------------------------------------------\u001b[0m",
      "\u001b[1;31mFileNotFoundError\u001b[0m                         Traceback (most recent call last)",
      "\u001b[1;32m<ipython-input-16-1a6f821af8df>\u001b[0m in \u001b[0;36m<module>\u001b[1;34m\u001b[0m\n\u001b[0;32m      7\u001b[0m             \u001b[0mamount\u001b[0m\u001b[1;33m=\u001b[0m\u001b[0mamount\u001b[0m\u001b[1;33m*\u001b[0m\u001b[0mfloat\u001b[0m\u001b[1;33m(\u001b[0m\u001b[0mlineData\u001b[0m\u001b[1;33m[\u001b[0m\u001b[1;36m1\u001b[0m\u001b[1;33m]\u001b[0m\u001b[1;33m)\u001b[0m\u001b[1;33m\u001b[0m\u001b[1;33m\u001b[0m\u001b[0m\n\u001b[0;32m      8\u001b[0m     \u001b[1;32mreturn\u001b[0m \u001b[0mamount\u001b[0m\u001b[1;33m\u001b[0m\u001b[1;33m\u001b[0m\u001b[0m\n\u001b[1;32m----> 9\u001b[1;33m \u001b[0mUSD\u001b[0m\u001b[1;33m=\u001b[0m\u001b[0mcurconv\u001b[0m\u001b[1;33m(\u001b[0m\u001b[1;34m'EUR'\u001b[0m\u001b[1;33m,\u001b[0m\u001b[1;36m100\u001b[0m\u001b[1;33m)\u001b[0m\u001b[1;33m\u001b[0m\u001b[1;33m\u001b[0m\u001b[0m\n\u001b[0m\u001b[0;32m     10\u001b[0m \u001b[0mUSD\u001b[0m\u001b[1;33m\u001b[0m\u001b[1;33m\u001b[0m\u001b[0m\n",
      "\u001b[1;32m<ipython-input-16-1a6f821af8df>\u001b[0m in \u001b[0;36mcurconv\u001b[1;34m(currency, amount)\u001b[0m\n\u001b[0;32m      1\u001b[0m \u001b[1;32mdef\u001b[0m  \u001b[0mcurconv\u001b[0m\u001b[1;33m(\u001b[0m\u001b[0mcurrency\u001b[0m\u001b[1;33m,\u001b[0m\u001b[0mamount\u001b[0m\u001b[1;33m)\u001b[0m\u001b[1;33m:\u001b[0m\u001b[1;33m\u001b[0m\u001b[1;33m\u001b[0m\u001b[0m\n\u001b[1;32m----> 2\u001b[1;33m     \u001b[0mfile\u001b[0m \u001b[1;33m=\u001b[0m \u001b[0mopen\u001b[0m\u001b[1;33m(\u001b[0m\u001b[1;34m'currencies.txt'\u001b[0m\u001b[1;33m,\u001b[0m \u001b[1;34m'r'\u001b[0m\u001b[1;33m)\u001b[0m\u001b[1;33m\u001b[0m\u001b[1;33m\u001b[0m\u001b[0m\n\u001b[0m\u001b[0;32m      3\u001b[0m     \u001b[0mcurrencyData\u001b[0m\u001b[1;33m=\u001b[0m\u001b[0mfile\u001b[0m\u001b[1;33m.\u001b[0m\u001b[0mreadlines\u001b[0m\u001b[1;33m(\u001b[0m\u001b[1;33m)\u001b[0m\u001b[1;33m\u001b[0m\u001b[1;33m\u001b[0m\u001b[0m\n\u001b[0;32m      4\u001b[0m     \u001b[1;32mfor\u001b[0m \u001b[0mdata\u001b[0m \u001b[1;32min\u001b[0m \u001b[0mcurrencyData\u001b[0m\u001b[1;33m:\u001b[0m\u001b[1;33m\u001b[0m\u001b[1;33m\u001b[0m\u001b[0m\n\u001b[0;32m      5\u001b[0m         \u001b[0mlineData\u001b[0m\u001b[1;33m=\u001b[0m\u001b[0mdata\u001b[0m\u001b[1;33m.\u001b[0m\u001b[0msplit\u001b[0m\u001b[1;33m(\u001b[0m\u001b[1;34m'\\t'\u001b[0m\u001b[1;33m)\u001b[0m\u001b[1;33m\u001b[0m\u001b[1;33m\u001b[0m\u001b[0m\n",
      "\u001b[1;31mFileNotFoundError\u001b[0m: [Errno 2] No such file or directory: 'currencies.txt'"
     ]
    }
   ],
   "source": [
    "f=open('currencies.txt')\n",
    "lines = f.readlines()\n",
    "Dict = {}\n",
    "for line in lines:\n",
    "    \n",
    " \tparsed = line.split(\"\\t\")    ## because in txt file all lines are seperated by tab\n",
    " \tDict[parsed[0]] = parsed[1]\n",
    "\n",
    "amount = int(input(\"Enter amount:\\n\"))\n",
    "currency = input(\"Please enter one of the values given in above question: \\n\")\n",
    "currency1=currency.upper()\n",
    "print(amount,currency1,\"is equal to\",amount *float(Dict[currency1]),\"in USD Dollars\")"
   ]
  },
  {
   "cell_type": "markdown",
   "id": "0e336d1c",
   "metadata": {},
   "source": [
    "# Question 9\n",
    "\n",
    "Each of the following will cause an exception (an error). Identify what type of\n",
    "exception each will cause.\n",
    "\n",
    "a.Trying to add incompatible variables, as in\n",
    "adding 6 + ‘a’\n"
   ]
  },
  {
   "cell_type": "code",
   "execution_count": 17,
   "id": "fce170bb",
   "metadata": {},
   "outputs": [
    {
     "ename": "SyntaxError",
     "evalue": "invalid character in identifier (<ipython-input-17-5d92401daa02>, line 1)",
     "output_type": "error",
     "traceback": [
      "\u001b[1;36m  File \u001b[1;32m\"<ipython-input-17-5d92401daa02>\"\u001b[1;36m, line \u001b[1;32m1\u001b[0m\n\u001b[1;33m    6 + ‘a’\u001b[0m\n\u001b[1;37m          ^\u001b[0m\n\u001b[1;31mSyntaxError\u001b[0m\u001b[1;31m:\u001b[0m invalid character in identifier\n"
     ]
    }
   ],
   "source": [
    "6 + ‘a’"
   ]
  },
  {
   "cell_type": "markdown",
   "id": "4ea89b6d",
   "metadata": {},
   "source": [
    "b. Referring to the 12th item of a list that has only 10\n",
    "items"
   ]
  },
  {
   "cell_type": "code",
   "execution_count": 26,
   "id": "9dcf5c17",
   "metadata": {},
   "outputs": [
    {
     "ename": "IndexError",
     "evalue": "range object index out of range",
     "output_type": "error",
     "traceback": [
      "\u001b[1;31m---------------------------------------------------------------------------\u001b[0m",
      "\u001b[1;31mIndexError\u001b[0m                                Traceback (most recent call last)",
      "\u001b[1;32m<ipython-input-26-8d5806d401c1>\u001b[0m in \u001b[0;36m<module>\u001b[1;34m\u001b[0m\n\u001b[0;32m      1\u001b[0m \u001b[0mlist\u001b[0m\u001b[1;33m=\u001b[0m\u001b[0mrange\u001b[0m\u001b[1;33m(\u001b[0m\u001b[1;36m10\u001b[0m\u001b[1;33m)\u001b[0m\u001b[1;33m\u001b[0m\u001b[1;33m\u001b[0m\u001b[0m\n\u001b[1;32m----> 2\u001b[1;33m \u001b[0mlist\u001b[0m\u001b[1;33m[\u001b[0m\u001b[1;36m12\u001b[0m\u001b[1;33m]\u001b[0m\u001b[1;33m\u001b[0m\u001b[1;33m\u001b[0m\u001b[0m\n\u001b[0m",
      "\u001b[1;31mIndexError\u001b[0m: range object index out of range"
     ]
    }
   ],
   "source": [
    "list=range(10)\n",
    "list[12]"
   ]
  },
  {
   "cell_type": "markdown",
   "id": "f50036ad",
   "metadata": {},
   "source": [
    "c.Using a value that is out of range for a function’s\n",
    "input, such as calling math.sqrt(-1.0)"
   ]
  },
  {
   "cell_type": "code",
   "execution_count": 25,
   "id": "6bd22488",
   "metadata": {},
   "outputs": [
    {
     "ename": "IndexError",
     "evalue": "range object index out of range",
     "output_type": "error",
     "traceback": [
      "\u001b[1;31m---------------------------------------------------------------------------\u001b[0m",
      "\u001b[1;31mIndexError\u001b[0m                                Traceback (most recent call last)",
      "\u001b[1;32m<ipython-input-25-35c205fa5590>\u001b[0m in \u001b[0;36m<module>\u001b[1;34m\u001b[0m\n\u001b[0;32m      2\u001b[0m     \u001b[0mprint\u001b[0m\u001b[1;33m(\u001b[0m\u001b[1;34m\"Inside function\"\u001b[0m\u001b[1;33m)\u001b[0m\u001b[1;33m\u001b[0m\u001b[1;33m\u001b[0m\u001b[0m\n\u001b[0;32m      3\u001b[0m \u001b[0mlist\u001b[0m\u001b[1;33m=\u001b[0m\u001b[0mrange\u001b[0m\u001b[1;33m(\u001b[0m\u001b[1;36m10\u001b[0m\u001b[1;33m)\u001b[0m\u001b[1;33m\u001b[0m\u001b[1;33m\u001b[0m\u001b[0m\n\u001b[1;32m----> 4\u001b[1;33m \u001b[0mfunc\u001b[0m\u001b[1;33m(\u001b[0m\u001b[0mlist\u001b[0m\u001b[1;33m[\u001b[0m\u001b[1;36m11\u001b[0m\u001b[1;33m]\u001b[0m\u001b[1;33m)\u001b[0m\u001b[1;33m\u001b[0m\u001b[1;33m\u001b[0m\u001b[0m\n\u001b[0m",
      "\u001b[1;31mIndexError\u001b[0m: range object index out of range"
     ]
    }
   ],
   "source": [
    "def func(var):\n",
    "    print(\"Inside function\")\n",
    "list=range(10)\n",
    "func(list[11])"
   ]
  },
  {
   "cell_type": "markdown",
   "id": "e943bd21",
   "metadata": {},
   "source": [
    "d. Using an undeclared variable, such as print(x)\n",
    "when x has not been defined"
   ]
  },
  {
   "cell_type": "code",
   "execution_count": 20,
   "id": "23558eda",
   "metadata": {},
   "outputs": [
    {
     "ename": "NameError",
     "evalue": "name 'x' is not defined",
     "output_type": "error",
     "traceback": [
      "\u001b[1;31m---------------------------------------------------------------------------\u001b[0m",
      "\u001b[1;31mNameError\u001b[0m                                 Traceback (most recent call last)",
      "\u001b[1;32m<ipython-input-20-fc17d851ef81>\u001b[0m in \u001b[0;36m<module>\u001b[1;34m\u001b[0m\n\u001b[1;32m----> 1\u001b[1;33m \u001b[0mprint\u001b[0m\u001b[1;33m(\u001b[0m\u001b[0mx\u001b[0m\u001b[1;33m)\u001b[0m\u001b[1;33m\u001b[0m\u001b[1;33m\u001b[0m\u001b[0m\n\u001b[0m",
      "\u001b[1;31mNameError\u001b[0m: name 'x' is not defined"
     ]
    }
   ],
   "source": [
    "print(x)"
   ]
  },
  {
   "cell_type": "markdown",
   "id": "e278eb15",
   "metadata": {},
   "source": [
    "e. Trying to open a file that does not exist, such as\n",
    "mistyping the file name or looking in the wrong\n",
    "directory. "
   ]
  },
  {
   "cell_type": "code",
   "execution_count": 22,
   "id": "b044bea2",
   "metadata": {},
   "outputs": [
    {
     "ename": "FileNotFoundError",
     "evalue": "[Errno 2] No such file or directory: 'empty_file.txt'",
     "output_type": "error",
     "traceback": [
      "\u001b[1;31m---------------------------------------------------------------------------\u001b[0m",
      "\u001b[1;31mFileNotFoundError\u001b[0m                         Traceback (most recent call last)",
      "\u001b[1;32m<ipython-input-22-f4ad82fbc897>\u001b[0m in \u001b[0;36m<module>\u001b[1;34m\u001b[0m\n\u001b[1;32m----> 1\u001b[1;33m \u001b[0mfile\u001b[0m \u001b[1;33m=\u001b[0m \u001b[0mopen\u001b[0m\u001b[1;33m(\u001b[0m\u001b[1;34m'empty_file.txt'\u001b[0m\u001b[1;33m,\u001b[0m \u001b[1;34m'r'\u001b[0m\u001b[1;33m)\u001b[0m\u001b[1;33m\u001b[0m\u001b[1;33m\u001b[0m\u001b[0m\n\u001b[0m",
      "\u001b[1;31mFileNotFoundError\u001b[0m: [Errno 2] No such file or directory: 'empty_file.txt'"
     ]
    }
   ],
   "source": [
    "file = open('empty_file.txt', 'r')"
   ]
  },
  {
   "cell_type": "markdown",
   "id": "4ac1bd08",
   "metadata": {},
   "source": [
    "# Question 10\n",
    "\n",
    "Encryption is the process of hiding the meaning of a text by substituting letters in the message with other letters, according to some system.\n",
    "If the process is successful, no one but the intended recipient can understand the encrypted message.\n",
    "Cryptanalysis refers to attempts to undo the encryption, even if some details of the encryption are unknown\n",
    "(for example, if an encrypted message has been intercepted).\n",
    "The first step of cryptanalysis is often to build up a table of letter frequencies in the encrypted text.\n",
    "Assume that the string letters is already defined as 'abcdefghijklmnopqrstuvwxyz'.\n",
    "Write a function called frequencies() that takes a string as its only parameter, and returns a list of integers, showing the number of times each character appears in the text.\n",
    "Your function may ignore any characters that are not in letters."
   ]
  },
  {
   "cell_type": "code",
   "execution_count": 9,
   "id": "02a5c475",
   "metadata": {},
   "outputs": [
    {
     "name": "stdout",
     "output_type": "stream",
     "text": [
      "frequencies('The quick red fox got bored and went home.')\n",
      "[1, 1, 1, 3, 5, 1, 1, 2, 1, 0, 1, 0, 1, 2, 4, 0, 1, 2, 0, 2, 1, 0, 1, 1, 0, 0]\n",
      "\n",
      "frequencies('apple')\n",
      "[1, 0, 0, 0, 1, 0, 0, 0, 0, 0, 0, 1, 0, 0, 0, 2, 0, 0, 0, 0, 0, 0, 0, 0, 0, 0]\n"
     ]
    }
   ],
   "source": [
    "def frequencies(str1):\n",
    "    letter_count = []\n",
    "    letters = ['a','b','c','d','e','f','g','h','i','j','k','l','m','n','o','p','q','r','s','t','u','v','w','x','y','z']\n",
    "    for i in range(len(letters)):\n",
    "        x = 0\n",
    "        for j in range(len(str1)):\n",
    "            if letters[i] == str1[j]:\n",
    "                x += 1\n",
    "        letter_count.append(x)\n",
    "    print(letter_count)\n",
    "\n",
    "print(\"frequencies('The quick red fox got bored and went home.')\")\n",
    "frequencies('The quick red fox got bored and went home.')\n",
    "print()\n",
    "print(\"frequencies('apple')\")\n",
    "frequencies('apple')"
   ]
  },
  {
   "cell_type": "code",
   "execution_count": null,
   "id": "c9f3dbdb",
   "metadata": {},
   "outputs": [],
   "source": []
  }
 ],
 "metadata": {
  "kernelspec": {
   "display_name": "Python 3",
   "language": "python",
   "name": "python3"
  },
  "language_info": {
   "codemirror_mode": {
    "name": "ipython",
    "version": 3
   },
   "file_extension": ".py",
   "mimetype": "text/x-python",
   "name": "python",
   "nbconvert_exporter": "python",
   "pygments_lexer": "ipython3",
   "version": "3.8.8"
  }
 },
 "nbformat": 4,
 "nbformat_minor": 5
}
